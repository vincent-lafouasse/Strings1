{
 "cells": [
  {
   "cell_type": "markdown",
   "id": "24aeb831",
   "metadata": {},
   "source": [
    "# Cordes 1"
   ]
  },
  {
   "cell_type": "markdown",
   "id": "060a1635",
   "metadata": {},
   "source": [
    "## Hypotheses\n",
    "\n",
    "- Corde de longueur unidimensionelle et homogène \n",
    "    - seuls parametres intrinsèques de la corde sont sa longueur $L$, sa masse linéique $\\mu$\n",
    "- Le module $T$ de la tension est constant \n",
    "- La corde est en mouvement transverse planaire\n",
    "    - Elle est entièrement déterminée par $y(x, \\, t)$ pour $x \\, \\in \\, [0, \\, L]$ \n",
    "- La corde est fixée à ses deux extrémités, i.e. $\\forall t \\, y(0, t) = y(L, t) = 0$"
   ]
  },
  {
   "cell_type": "markdown",
   "id": "b7220db7",
   "metadata": {},
   "source": [
    "## Équation d'onde\n",
    "\n",
    "$$\n",
    "    \\mu \\frac{\\partial^2 y}{\\partial t^2}(x, t) = T \\frac{\\partial^2 y}{\\partial x^2}(x, t)\n",
    "$$\n",
    "\n",
    "Ou encore\n",
    "\n",
    "$$\n",
    "\\boxed{\n",
    "    \\frac{\\partial^2 y}{\\partial t^2}(x, t) = c^2 \\frac{\\partial^2 y}{\\partial x^2}(x, t)\n",
    "}\n",
    "$$\n",
    "\n",
    "avec\n",
    "\n",
    "$$\n",
    "c = \\sqrt{\\frac{T}{\\mu}}\n",
    "$$\n",
    "\n",
    "et la relation de dispersion\n",
    "\n",
    "$$\n",
    "k = \\frac{\\omega}{c}\n",
    "$$"
   ]
  },
  {
   "cell_type": "markdown",
   "id": "05f78e42",
   "metadata": {},
   "source": [
    "## Solutions générales\n",
    "\n",
    "On cherche des ondes stationnaires de la forme $y(x, t) = \\mathcal{T}(t) \\mathcal{X}(x)$\n",
    "\n",
    "On a:\n",
    "\n",
    "$$\n",
    "\\ddot{\\mathcal{T}}(t) \\mathcal{X}(x) = c^2 \\mathcal{T}(t) \\mathcal{X}''(x)\n",
    "$$\n",
    "\n",
    "i.e.\n",
    "\n",
    "\n",
    "$$\n",
    "\\frac{1}{c^2} \\frac{\\ddot{\\mathcal{T}}(t)}{\\mathcal{T}(t)} = \\frac{\\mathcal{X}''(x)}{\\mathcal{X}(x)} := -k^2\n",
    "$$\n",
    "\n",
    "c'est-à-dire\n",
    "\n",
    "$$\n",
    "\\begin{cases}\n",
    "\\mathcal{X}''(x) + k^2 \\mathcal{X}(x) = 0 \\\\\n",
    "\\ddot{\\mathcal{T}}(t) + c^2 k^2 \\mathcal{T}(t) = 0\n",
    "\\end{cases}\n",
    "$$\n",
    "\n",
    "Donc\n",
    "\n",
    "$$\n",
    "\\mathcal{X}(x) = A \\sin{}(kx) + B \\cos{}(kx)\n",
    "$$\n",
    "\n",
    "et, avec $\\omega = c k$\n",
    "\n",
    "$$\n",
    "\\mathcal{T}(t) = a \\sin{}(\\omega t) + b \\cos{}(\\omega t)\n",
    "$$\n"
   ]
  },
  {
   "cell_type": "markdown",
   "id": "5d72fd6c",
   "metadata": {},
   "source": [
    "## Conditions aux limites\n",
    "\n",
    "En considérant les CL en $0$ et $L$, on obtient les modes\n",
    "\n",
    "$$\n",
    "\\phi{}_n(x) = \\sin{}(n \\frac{ \\pi }{L} x)\n",
    "$$\n",
    "\n",
    "et les coordonnées modales\n",
    "\n",
    "$$\n",
    "q_n(t) = a_n \\sin{}(n \\frac{ c \\pi }{L} t) +  b_n \\cos{}(n \\frac{ c \\pi }{L} t)\n",
    "$$\n",
    "\n",
    "On voit apparaitre un spectre harmonique avec\n",
    "\n",
    "$$\n",
    "k_0 = \\frac{\\pi}{L} \\\\\n",
    "k_n = n k_0 = n \\frac{\\pi}{L}\n",
    "$$\n",
    "\n",
    "et\n",
    "\n",
    "$$\n",
    "\\omega_0 = c \\frac{\\pi}{L} \\\\\n",
    "\\omega_n = n \\omega_0 = n c \\frac{\\pi}{L}\n",
    "$$\n",
    "\n",
    "ainsi que\n",
    "\n",
    "\n",
    "$$\n",
    "f_0 = \\frac{c}{2L} \\\\\n",
    "f_n = n f_0 = n \\frac{c}{2L}\n",
    "$$"
   ]
  },
  {
   "cell_type": "markdown",
   "id": "d810f082",
   "metadata": {},
   "source": [
    "### Tension\n",
    "\n",
    "Connaissant la masse linéique $\\mu$ d'une corde (ou sa masse volumique $\\rho$ et son tirant, ie son diametre $d$), le diapason $L$ de l'instrument et la fréquence $f_0$ voulue, on peut établir la tension à appliquer sur la corde pour l'accorder.\n",
    "\n",
    "$$\n",
    "\\sqrt{\\frac{T}{\\mu}} = 2 f_0 L\n",
    "$$\n",
    "\n",
    "\n",
    "$$\n",
    "\\boxed{\n",
    "    T = 4 f_0^2 L^2 \\mu\n",
    "}\n",
    "$$\n",
    "\n",
    "avec\n",
    "\n",
    "$$\n",
    "\\mu = \\pi (\\frac{d}{2})^2 \\rho\n",
    "$$"
   ]
  },
  {
   "cell_type": "markdown",
   "id": "32603adf",
   "metadata": {},
   "source": [
    "## Application numérique\n",
    "\n",
    "![Savarez 520R Medium tension](./data/nylonMediumTension.png)"
   ]
  },
  {
   "cell_type": "code",
   "execution_count": 12,
   "id": "dc02a8e7",
   "metadata": {},
   "outputs": [
    {
     "name": "stdout",
     "output_type": "stream",
     "text": [
      "Corde en nylon:\n",
      "Masse lineique 0.439 g/m\n",
      "Tension necessaire: 80.56 N\n",
      "Masse equivalente: 8.21 kg\n",
      "\n"
     ]
    }
   ],
   "source": [
    "import math\n",
    "\n",
    "\n",
    "class String:\n",
    "    def __init__(self, rho, L, f0, tirant):\n",
    "        self.L = L\n",
    "        self.f0 = f0\n",
    "        self.mu = rho * math.pi * (tirant / 2)**2\n",
    "\n",
    "    def tension(self):\n",
    "        return 4 * self.f0**2 * self.L**2 * self.mu\n",
    "\n",
    "    def tensionKg(self):\n",
    "        return self.tension() / 9.81\n",
    "\n",
    "    def log(self, name):\n",
    "        print(name)\n",
    "        print(f\"Masse lineique {self.mu * 1000:.3f} g/m\")\n",
    "        print(f\"Tension necessaire: {self.tension():.2f} N\")\n",
    "        print(f\"Masse equivalente: {self.tensionKg():.2f} kg\")\n",
    "        print()\n",
    "\n",
    "\n",
    "\n",
    "# tout en SI\n",
    "rhoNylon = 1140 # nylon\n",
    "diapasonGuitareClassique = 650 / 1000.0 # scale length\n",
    "miAigu = 329.63 # high E\n",
    "tirant = 0.7 / 1000\n",
    "\n",
    "cordeNylon = String(rhoNylon, diapasonGuitareClassique, miAigu, tirant)\n",
    "cordeNylon.log(\"Corde en nylon:\")\n"
   ]
  },
  {
   "cell_type": "markdown",
   "id": "0e8564e3",
   "metadata": {},
   "source": [
    "## Orthogonalité\n",
    "\n",
    "Même en perdant un nombre substanciel d'hypothèses (corde inhomogène de section variable), on a les relations d'orthogonalité\n",
    "\n",
    "$$\n",
    "n \\neq{} p \\, \\Rightarrow{} \\int_0^L \\rho{} \\, S \\, \\phi{}_n \\phi{}_p  \\operatorname{d}x = 0\n",
    "$$\n",
    "\n",
    "et\n",
    "\n",
    "$$\n",
    "n \\neq{} p \\, \\Rightarrow{} \\int_0^L T \\,\\phi{}'_n \\phi{}'_p  \\operatorname{d}x = 0\n",
    "$$"
   ]
  }
 ],
 "metadata": {
  "kernelspec": {
   "display_name": "possEnv",
   "language": "python",
   "name": "python3"
  },
  "language_info": {
   "codemirror_mode": {
    "name": "ipython",
    "version": 3
   },
   "file_extension": ".py",
   "mimetype": "text/x-python",
   "name": "python",
   "nbconvert_exporter": "python",
   "pygments_lexer": "ipython3",
   "version": "3.13.4"
  }
 },
 "nbformat": 4,
 "nbformat_minor": 5
}
